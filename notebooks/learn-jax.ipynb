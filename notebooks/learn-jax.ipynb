{
 "cells": [
  {
   "cell_type": "markdown",
   "id": "6f83c516-6ee0-4cb4-b5ea-81c626896425",
   "metadata": {},
   "source": [
    "# Learn JAX\n",
    "\n",
    "This notebook is for learning JAX."
   ]
  },
  {
   "cell_type": "code",
   "execution_count": 1,
   "id": "40c2fb12-5686-41a1-8115-b5df18e0077c",
   "metadata": {},
   "outputs": [],
   "source": [
    "import jax.numpy as jnp\n",
    "from jax import grad, jit, vmap\n",
    "from jax import random"
   ]
  },
  {
   "cell_type": "markdown",
   "id": "f623128a-6e5c-4e35-b3d1-e771d98dcb44",
   "metadata": {},
   "source": [
    "## Multiplying matrices"
   ]
  },
  {
   "cell_type": "code",
   "execution_count": 2,
   "id": "4828a223-49d4-4aa4-96e4-f39acc6a792f",
   "metadata": {},
   "outputs": [
    {
     "name": "stdout",
     "output_type": "stream",
     "text": [
      "[-0.3721109   0.26423115 -0.18252768 -0.7368197  -0.44030377 -0.1521442\n",
      " -0.67135346 -0.5908641   0.73168886  0.5673026 ]\n"
     ]
    }
   ],
   "source": [
    "key = random.PRNGKey(0)\n",
    "x = random.normal(key, (10,))\n",
    "print(x)"
   ]
  },
  {
   "cell_type": "markdown",
   "id": "7cf453d9-8ade-4115-aa5f-7c3d9913c3f3",
   "metadata": {},
   "source": [
    "Let’s dive right in and multiply two big matrices."
   ]
  },
  {
   "cell_type": "code",
   "execution_count": 3,
   "id": "def92d58-820f-4663-910e-c2c0962b88c4",
   "metadata": {},
   "outputs": [
    {
     "name": "stdout",
     "output_type": "stream",
     "text": [
      "5.25 ms ± 847 µs per loop (mean ± std. dev. of 7 runs, 1 loop each)\n"
     ]
    }
   ],
   "source": [
    "size = 3000\n",
    "x = random.normal(key, (size, size), dtype=jnp.float32)\n",
    "%timeit jnp.dot(x, x.T).block_until_ready()  # runs on the GPU"
   ]
  },
  {
   "cell_type": "markdown",
   "id": "790fbe50-c05a-4fa7-a044-60955332a9a4",
   "metadata": {},
   "source": [
    "JAX NumPy functions work on regular NumPy arrays."
   ]
  },
  {
   "cell_type": "code",
   "execution_count": 5,
   "id": "786307ca-3b4a-44a6-84c6-acfecf3fe104",
   "metadata": {},
   "outputs": [
    {
     "name": "stdout",
     "output_type": "stream",
     "text": [
      "20.8 ms ± 135 µs per loop (mean ± std. dev. of 7 runs, 10 loops each)\n"
     ]
    }
   ],
   "source": [
    "import numpy as np\n",
    "x = np.random.normal(size=(size, size)).astype(np.float32)\n",
    "%timeit jnp.dot(x, x.T).block_until_ready()"
   ]
  },
  {
   "cell_type": "markdown",
   "id": "87a2a276-2bf0-4c42-8f9c-f7040223c48f",
   "metadata": {},
   "source": [
    "That’s slower because it has to transfer data to the GPU every time. You can ensure that an NDArray is backed by device memory using `device_put()`."
   ]
  },
  {
   "cell_type": "code",
   "execution_count": 6,
   "id": "79f82d77-8991-45b8-90e9-1556a26b1d7d",
   "metadata": {},
   "outputs": [
    {
     "name": "stdout",
     "output_type": "stream",
     "text": [
      "5.11 ms ± 19.1 µs per loop (mean ± std. dev. of 7 runs, 100 loops each)\n"
     ]
    }
   ],
   "source": [
    "from jax import device_put\n",
    "\n",
    "x = np.random.normal(size=(size, size)).astype(np.float32)\n",
    "x = device_put(x)\n",
    "%timeit jnp.dot(x, x.T).block_until_ready()"
   ]
  },
  {
   "cell_type": "code",
   "execution_count": null,
   "id": "ca515bbf-36a5-41c7-a934-d434ae7f6ba5",
   "metadata": {},
   "outputs": [],
   "source": []
  }
 ],
 "metadata": {
  "kernelspec": {
   "display_name": "Python 3 (ipykernel)",
   "language": "python",
   "name": "python3"
  },
  "language_info": {
   "codemirror_mode": {
    "name": "ipython",
    "version": 3
   },
   "file_extension": ".py",
   "mimetype": "text/x-python",
   "name": "python",
   "nbconvert_exporter": "python",
   "pygments_lexer": "ipython3",
   "version": "3.8.10"
  }
 },
 "nbformat": 4,
 "nbformat_minor": 5
}
