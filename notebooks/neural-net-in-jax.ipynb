{
 "cells": [
  {
   "cell_type": "markdown",
   "id": "b29b6a97-b449-4dbd-874d-e441f28db12c",
   "metadata": {},
   "source": [
    "# Training a neural net in JAX\n",
    "\n",
    "The goal of this notebook is to work towards training a neural network from scratch in `jax`"
   ]
  },
  {
   "cell_type": "code",
   "execution_count": null,
   "id": "ca04db40-09d6-4ec2-ba32-626e626fb156",
   "metadata": {},
   "outputs": [],
   "source": []
  }
 ],
 "metadata": {
  "kernelspec": {
   "display_name": "Python 3 (ipykernel)",
   "language": "python",
   "name": "python3"
  },
  "language_info": {
   "codemirror_mode": {
    "name": "ipython",
    "version": 3
   },
   "file_extension": ".py",
   "mimetype": "text/x-python",
   "name": "python",
   "nbconvert_exporter": "python",
   "pygments_lexer": "ipython3",
   "version": "3.8.10"
  }
 },
 "nbformat": 4,
 "nbformat_minor": 5
}
